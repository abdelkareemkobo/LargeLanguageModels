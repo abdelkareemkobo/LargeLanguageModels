{
 "cells": [
  {
   "cell_type": "markdown",
   "metadata": {},
   "source": [
    "### The Book \n",
    "1. [ ] [[Hello Transformers]] \n",
    "2. [ ] [[Text Classification]] \n",
    "3. [ ] [[Transfer Anatomy]] \n",
    "4. [ ] [[Multilingaul Named Entitiy Recognition]] \n",
    "5. [ ] [[Text Generation]] \n",
    "6. [ ] [[Summarization]] \n",
    "****\n",
    "1. [ ] [[Question Answering]] \n",
    "2. [ ] [[Making Transformers Efficient in Production]] \n",
    "3. [ ] [[Dealing with Few and No Labels]]\n",
    "***\n",
    "1.  [ ] [[Training Transformers From Scratch]] \n",
    "2.  [ ] [[Fututre Directions]]\n",
    "****\n",
    "### Mohammed Ahmed Notebooks \n",
    "- [ ] [[fine-tuned models]]\n",
    "- [ ] [[LLMs]]\n",
    "- [ ] [[RAG]] \n",
    "### Other Explorations \n",
    "- [ ] [[vector database]] \n",
    "- [ ] [[Medicine]] \n",
    "**** \n",
    "### Arabic Challenges \n",
    "\n"
   ]
  },
  {
   "cell_type": "code",
   "execution_count": null,
   "metadata": {},
   "outputs": [],
   "source": []
  }
 ],
 "metadata": {
  "language_info": {
   "name": "python"
  }
 },
 "nbformat": 4,
 "nbformat_minor": 2
}
